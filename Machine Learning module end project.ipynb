{
 "cells": [
  {
   "cell_type": "markdown",
   "id": "97aa7220-ef66-4e80-93e2-19cb126a17b0",
   "metadata": {},
   "source": [
    "# CarPrice_Assignment"
   ]
  },
  {
   "cell_type": "code",
   "execution_count": null,
   "id": "8999f04f-dcb7-43b4-9933-f9b89b51880d",
   "metadata": {},
   "outputs": [],
   "source": [
    "#1. Loading and Preprocessing "
   ]
  },
  {
   "cell_type": "code",
   "execution_count": null,
   "id": "b7d8b78b-6b43-4ada-b386-212ad16e66d0",
   "metadata": {},
   "outputs": [],
   "source": [
    "#1. Loading and Preprocessing "
   ]
  },
  {
   "cell_type": "code",
   "execution_count": 5,
   "id": "174d7453-12cd-4061-ba74-5d7a6c381059",
   "metadata": {},
   "outputs": [],
   "source": [
    "import pandas as pd\n",
    "import numpy as np\n",
    "from sklearn.model_selection import train_test_split\n",
    "from sklearn.preprocessing import StandardScaler, LabelEncoder\n",
    "\n",
    "# Load the dataset\n",
    "df = pd.read_csv('CarPrice_Assignment.csv') \n",
    "\n"
   ]
  },
  {
   "cell_type": "code",
   "execution_count": 25,
   "id": "64ab2816-0a02-4c47-84bb-7d3d2c0aa7e2",
   "metadata": {},
   "outputs": [
    {
     "name": "stdout",
     "output_type": "stream",
     "text": [
      "<class 'pandas.core.frame.DataFrame'>\n",
      "RangeIndex: 205 entries, 0 to 204\n",
      "Data columns (total 26 columns):\n",
      " #   Column            Non-Null Count  Dtype  \n",
      "---  ------            --------------  -----  \n",
      " 0   car_ID            205 non-null    int64  \n",
      " 1   symboling         205 non-null    int64  \n",
      " 2   CarName           205 non-null    int32  \n",
      " 3   fueltype          205 non-null    int32  \n",
      " 4   aspiration        205 non-null    int32  \n",
      " 5   doornumber        205 non-null    int32  \n",
      " 6   carbody           205 non-null    int32  \n",
      " 7   drivewheel        205 non-null    int32  \n",
      " 8   enginelocation    205 non-null    int32  \n",
      " 9   wheelbase         205 non-null    float64\n",
      " 10  carlength         205 non-null    float64\n",
      " 11  carwidth          205 non-null    float64\n",
      " 12  carheight         205 non-null    float64\n",
      " 13  curbweight        205 non-null    int64  \n",
      " 14  enginetype        205 non-null    int32  \n",
      " 15  cylindernumber    205 non-null    int32  \n",
      " 16  enginesize        205 non-null    int64  \n",
      " 17  fuelsystem        205 non-null    int32  \n",
      " 18  boreratio         205 non-null    float64\n",
      " 19  stroke            205 non-null    float64\n",
      " 20  compressionratio  205 non-null    float64\n",
      " 21  horsepower        205 non-null    int64  \n",
      " 22  peakrpm           205 non-null    int64  \n",
      " 23  citympg           205 non-null    int64  \n",
      " 24  highwaympg        205 non-null    int64  \n",
      " 25  price             205 non-null    float64\n",
      "dtypes: float64(8), int32(10), int64(8)\n",
      "memory usage: 33.8 KB\n"
     ]
    },
    {
     "data": {
      "text/plain": [
       "None"
      ]
     },
     "metadata": {},
     "output_type": "display_data"
    }
   ],
   "source": [
    "# Display basic info\n",
    "display(df.info())\n"
   ]
  },
  {
   "cell_type": "code",
   "execution_count": 9,
   "id": "598eb1f2-e4a2-40ae-8c2b-ca0e0fefcbcd",
   "metadata": {},
   "outputs": [
    {
     "name": "stdout",
     "output_type": "stream",
     "text": [
      "Missing Values:\n",
      " car_ID              0\n",
      "symboling           0\n",
      "CarName             0\n",
      "fueltype            0\n",
      "aspiration          0\n",
      "doornumber          0\n",
      "carbody             0\n",
      "drivewheel          0\n",
      "enginelocation      0\n",
      "wheelbase           0\n",
      "carlength           0\n",
      "carwidth            0\n",
      "carheight           0\n",
      "curbweight          0\n",
      "enginetype          0\n",
      "cylindernumber      0\n",
      "enginesize          0\n",
      "fuelsystem          0\n",
      "boreratio           0\n",
      "stroke              0\n",
      "compressionratio    0\n",
      "horsepower          0\n",
      "peakrpm             0\n",
      "citympg             0\n",
      "highwaympg          0\n",
      "price               0\n",
      "dtype: int64\n"
     ]
    }
   ],
   "source": [
    "# Check for missing values\n",
    "print(\"Missing Values:\\n\", df.isnull().sum())\n"
   ]
  },
  {
   "cell_type": "code",
   "execution_count": 27,
   "id": "6756948b-6a4c-4b17-9fad-c11b9ee8528c",
   "metadata": {},
   "outputs": [
    {
     "data": {
      "text/html": [
       "<div>\n",
       "<style scoped>\n",
       "    .dataframe tbody tr th:only-of-type {\n",
       "        vertical-align: middle;\n",
       "    }\n",
       "\n",
       "    .dataframe tbody tr th {\n",
       "        vertical-align: top;\n",
       "    }\n",
       "\n",
       "    .dataframe thead th {\n",
       "        text-align: right;\n",
       "    }\n",
       "</style>\n",
       "<table border=\"1\" class=\"dataframe\">\n",
       "  <thead>\n",
       "    <tr style=\"text-align: right;\">\n",
       "      <th></th>\n",
       "      <th>car_ID</th>\n",
       "      <th>symboling</th>\n",
       "      <th>CarName</th>\n",
       "      <th>fueltype</th>\n",
       "      <th>aspiration</th>\n",
       "      <th>doornumber</th>\n",
       "      <th>carbody</th>\n",
       "      <th>drivewheel</th>\n",
       "      <th>enginelocation</th>\n",
       "      <th>wheelbase</th>\n",
       "      <th>...</th>\n",
       "      <th>enginesize</th>\n",
       "      <th>fuelsystem</th>\n",
       "      <th>boreratio</th>\n",
       "      <th>stroke</th>\n",
       "      <th>compressionratio</th>\n",
       "      <th>horsepower</th>\n",
       "      <th>peakrpm</th>\n",
       "      <th>citympg</th>\n",
       "      <th>highwaympg</th>\n",
       "      <th>price</th>\n",
       "    </tr>\n",
       "  </thead>\n",
       "  <tbody>\n",
       "    <tr>\n",
       "      <th>0</th>\n",
       "      <td>1</td>\n",
       "      <td>3</td>\n",
       "      <td>2</td>\n",
       "      <td>1</td>\n",
       "      <td>0</td>\n",
       "      <td>1</td>\n",
       "      <td>0</td>\n",
       "      <td>2</td>\n",
       "      <td>0</td>\n",
       "      <td>88.6</td>\n",
       "      <td>...</td>\n",
       "      <td>130</td>\n",
       "      <td>5</td>\n",
       "      <td>3.47</td>\n",
       "      <td>2.68</td>\n",
       "      <td>9.0</td>\n",
       "      <td>111</td>\n",
       "      <td>5000</td>\n",
       "      <td>21</td>\n",
       "      <td>27</td>\n",
       "      <td>13495.0</td>\n",
       "    </tr>\n",
       "    <tr>\n",
       "      <th>1</th>\n",
       "      <td>2</td>\n",
       "      <td>3</td>\n",
       "      <td>3</td>\n",
       "      <td>1</td>\n",
       "      <td>0</td>\n",
       "      <td>1</td>\n",
       "      <td>0</td>\n",
       "      <td>2</td>\n",
       "      <td>0</td>\n",
       "      <td>88.6</td>\n",
       "      <td>...</td>\n",
       "      <td>130</td>\n",
       "      <td>5</td>\n",
       "      <td>3.47</td>\n",
       "      <td>2.68</td>\n",
       "      <td>9.0</td>\n",
       "      <td>111</td>\n",
       "      <td>5000</td>\n",
       "      <td>21</td>\n",
       "      <td>27</td>\n",
       "      <td>16500.0</td>\n",
       "    </tr>\n",
       "    <tr>\n",
       "      <th>2</th>\n",
       "      <td>3</td>\n",
       "      <td>1</td>\n",
       "      <td>1</td>\n",
       "      <td>1</td>\n",
       "      <td>0</td>\n",
       "      <td>1</td>\n",
       "      <td>2</td>\n",
       "      <td>2</td>\n",
       "      <td>0</td>\n",
       "      <td>94.5</td>\n",
       "      <td>...</td>\n",
       "      <td>152</td>\n",
       "      <td>5</td>\n",
       "      <td>2.68</td>\n",
       "      <td>3.47</td>\n",
       "      <td>9.0</td>\n",
       "      <td>154</td>\n",
       "      <td>5000</td>\n",
       "      <td>19</td>\n",
       "      <td>26</td>\n",
       "      <td>16500.0</td>\n",
       "    </tr>\n",
       "    <tr>\n",
       "      <th>3</th>\n",
       "      <td>4</td>\n",
       "      <td>2</td>\n",
       "      <td>4</td>\n",
       "      <td>1</td>\n",
       "      <td>0</td>\n",
       "      <td>0</td>\n",
       "      <td>3</td>\n",
       "      <td>1</td>\n",
       "      <td>0</td>\n",
       "      <td>99.8</td>\n",
       "      <td>...</td>\n",
       "      <td>109</td>\n",
       "      <td>5</td>\n",
       "      <td>3.19</td>\n",
       "      <td>3.40</td>\n",
       "      <td>10.0</td>\n",
       "      <td>102</td>\n",
       "      <td>5500</td>\n",
       "      <td>24</td>\n",
       "      <td>30</td>\n",
       "      <td>13950.0</td>\n",
       "    </tr>\n",
       "    <tr>\n",
       "      <th>4</th>\n",
       "      <td>5</td>\n",
       "      <td>2</td>\n",
       "      <td>5</td>\n",
       "      <td>1</td>\n",
       "      <td>0</td>\n",
       "      <td>0</td>\n",
       "      <td>3</td>\n",
       "      <td>0</td>\n",
       "      <td>0</td>\n",
       "      <td>99.4</td>\n",
       "      <td>...</td>\n",
       "      <td>136</td>\n",
       "      <td>5</td>\n",
       "      <td>3.19</td>\n",
       "      <td>3.40</td>\n",
       "      <td>8.0</td>\n",
       "      <td>115</td>\n",
       "      <td>5500</td>\n",
       "      <td>18</td>\n",
       "      <td>22</td>\n",
       "      <td>17450.0</td>\n",
       "    </tr>\n",
       "  </tbody>\n",
       "</table>\n",
       "<p>5 rows × 26 columns</p>\n",
       "</div>"
      ],
      "text/plain": [
       "   car_ID  symboling  CarName  fueltype  aspiration  doornumber  carbody  \\\n",
       "0       1          3        2         1           0           1        0   \n",
       "1       2          3        3         1           0           1        0   \n",
       "2       3          1        1         1           0           1        2   \n",
       "3       4          2        4         1           0           0        3   \n",
       "4       5          2        5         1           0           0        3   \n",
       "\n",
       "   drivewheel  enginelocation  wheelbase  ...  enginesize  fuelsystem  \\\n",
       "0           2               0       88.6  ...         130           5   \n",
       "1           2               0       88.6  ...         130           5   \n",
       "2           2               0       94.5  ...         152           5   \n",
       "3           1               0       99.8  ...         109           5   \n",
       "4           0               0       99.4  ...         136           5   \n",
       "\n",
       "   boreratio  stroke  compressionratio  horsepower  peakrpm  citympg  \\\n",
       "0       3.47    2.68               9.0         111     5000       21   \n",
       "1       3.47    2.68               9.0         111     5000       21   \n",
       "2       2.68    3.47               9.0         154     5000       19   \n",
       "3       3.19    3.40              10.0         102     5500       24   \n",
       "4       3.19    3.40               8.0         115     5500       18   \n",
       "\n",
       "   highwaympg    price  \n",
       "0          27  13495.0  \n",
       "1          27  16500.0  \n",
       "2          26  16500.0  \n",
       "3          30  13950.0  \n",
       "4          22  17450.0  \n",
       "\n",
       "[5 rows x 26 columns]"
      ]
     },
     "metadata": {},
     "output_type": "display_data"
    }
   ],
   "source": [
    "display(df.head())"
   ]
  },
  {
   "cell_type": "code",
   "execution_count": 29,
   "id": "bdc3e57f-f12c-4a7f-88f6-f758ddd02327",
   "metadata": {},
   "outputs": [
    {
     "name": "stdout",
     "output_type": "stream",
     "text": [
      "Missing Values:\n",
      " car_ID              0\n",
      "symboling           0\n",
      "CarName             0\n",
      "fueltype            0\n",
      "aspiration          0\n",
      "doornumber          0\n",
      "carbody             0\n",
      "drivewheel          0\n",
      "enginelocation      0\n",
      "wheelbase           0\n",
      "carlength           0\n",
      "carwidth            0\n",
      "carheight           0\n",
      "curbweight          0\n",
      "enginetype          0\n",
      "cylindernumber      0\n",
      "enginesize          0\n",
      "fuelsystem          0\n",
      "boreratio           0\n",
      "stroke              0\n",
      "compressionratio    0\n",
      "horsepower          0\n",
      "peakrpm             0\n",
      "citympg             0\n",
      "highwaympg          0\n",
      "price               0\n",
      "dtype: int64\n"
     ]
    }
   ],
   "source": [
    "#Checking for Missing Values\n",
    "print(\"Missing Values:\\n\", df.isnull().sum())\n"
   ]
  },
  {
   "cell_type": "code",
   "execution_count": 47,
   "id": "f414e582-016d-4ed2-9860-88c32d6da012",
   "metadata": {},
   "outputs": [],
   "source": [
    "#Dropping Duplicates\n",
    "df.drop_duplicates(inplace=True)\n"
   ]
  },
  {
   "cell_type": "code",
   "execution_count": 35,
   "id": "b0910719-7590-4915-84e2-f8608954c144",
   "metadata": {},
   "outputs": [],
   "source": [
    "# Encoding categorical variables\n",
    "categorical_columns = ['CarName', 'fueltype', 'aspiration', 'doornumber', 'carbody', 'drivewheel', 'enginelocation',\n",
    "                        'enginetype', 'cylindernumber', 'fuelsystem']\n",
    "for col in categorical_columns:\n",
    "    df[col] = LabelEncoder().fit_transform(df[col])"
   ]
  },
  {
   "cell_type": "code",
   "execution_count": 37,
   "id": "9c784a1a-8c00-4372-bf49-fb10da9a0290",
   "metadata": {},
   "outputs": [],
   "source": [
    "#Defining Features and Target Variable\n",
    "X = df.drop(columns=['price', 'car_ID'])  # Drop ID column as it's not useful\n",
    "y = df['price']\n"
   ]
  },
  {
   "cell_type": "code",
   "execution_count": 39,
   "id": "f82ef0e6-7cc0-4a95-911a-1f5e4e301f33",
   "metadata": {},
   "outputs": [],
   "source": [
    "#Scaling the Numerical Features\n",
    "scaler = StandardScaler()\n",
    "X_scaled = scaler.fit_transform(X)\n"
   ]
  },
  {
   "cell_type": "code",
   "execution_count": 41,
   "id": "deda701e-670a-4b6d-bf82-b058a6ee18cb",
   "metadata": {},
   "outputs": [],
   "source": [
    "#Train-Test Split\n",
    "X_train, X_test, y_train, y_test = train_test_split(X_scaled, y, test_size=0.2, random_state=42)\n"
   ]
  },
  {
   "cell_type": "code",
   "execution_count": 43,
   "id": "e904134e-3984-4a96-a654-1e5f938f1985",
   "metadata": {},
   "outputs": [
    {
     "name": "stdout",
     "output_type": "stream",
     "text": [
      "Preprocessing complete. Data is ready for modeling.\n"
     ]
    }
   ],
   "source": [
    "print(\"Preprocessing complete. Data is ready for modeling.\")\n"
   ]
  },
  {
   "cell_type": "markdown",
   "id": "82860cfb-43ee-4f0f-bb29-c9d223515e37",
   "metadata": {},
   "source": [
    "# 2.Model Implementation :Implement the following five regression algorithms\n"
   ]
  },
  {
   "cell_type": "code",
   "execution_count": 51,
   "id": "d5b0c2a6-0a2a-40be-a381-d4866dc87efb",
   "metadata": {},
   "outputs": [],
   "source": [
    "# Import necessary libraries\n",
    "from sklearn.linear_model import LinearRegression\n",
    "from sklearn.tree import DecisionTreeRegressor\n",
    "from sklearn.ensemble import RandomForestRegressor, GradientBoostingRegressor\n",
    "from sklearn.svm import SVR\n",
    "from sklearn.metrics import mean_squared_error, r2_score"
   ]
  },
  {
   "cell_type": "code",
   "execution_count": 53,
   "id": "b46538e7-9ba2-44bd-8c23-139f865bfde6",
   "metadata": {},
   "outputs": [],
   "source": [
    "# 1) Linear Regression\n",
    "linear_regressor = LinearRegression()\n",
    "linear_regressor.fit(X_train, y_train)\n",
    "y_pred_linear = linear_regressor.predict(X_test)\n"
   ]
  },
  {
   "cell_type": "code",
   "execution_count": 55,
   "id": "f8284739-0e1b-4e04-901c-5eb30fa8083d",
   "metadata": {},
   "outputs": [],
   "source": [
    "# 2) Decision Tree Regressor\n",
    "dt_regressor = DecisionTreeRegressor(random_state=42)\n",
    "dt_regressor.fit(X_train, y_train)\n",
    "y_pred_dt = dt_regressor.predict(X_test)"
   ]
  },
  {
   "cell_type": "code",
   "execution_count": 57,
   "id": "5ed6800e-b5e5-4b55-8e5c-a57013982a49",
   "metadata": {},
   "outputs": [],
   "source": [
    "# 3) Random Forest Regressor\n",
    "rf_regressor = RandomForestRegressor(random_state=42)\n",
    "rf_regressor.fit(X_train, y_train)\n",
    "y_pred_rf = rf_regressor.predict(X_test)"
   ]
  },
  {
   "cell_type": "code",
   "execution_count": 59,
   "id": "2fbe2e98-4ac0-4d64-97df-27044c4ddbc5",
   "metadata": {},
   "outputs": [],
   "source": [
    "# 4) Gradient Boosting Regressor\n",
    "gb_regressor = GradientBoostingRegressor(random_state=42)\n",
    "gb_regressor.fit(X_train, y_train)\n",
    "y_pred_gb = gb_regressor.predict(X_test)\n"
   ]
  },
  {
   "cell_type": "code",
   "execution_count": 61,
   "id": "342f91bd-6f37-4b15-a356-7070565d112f",
   "metadata": {},
   "outputs": [],
   "source": [
    "# 5) Support Vector Regressor (SVR)\n",
    "svr_regressor = SVR(kernel='rbf')\n",
    "svr_regressor.fit(X_train, y_train)\n",
    "y_pred_svr = svr_regressor.predict(X_test)"
   ]
  },
  {
   "cell_type": "code",
   "execution_count": 63,
   "id": "61b42c8c-05fd-4bbc-a9d1-6a3b37661a50",
   "metadata": {},
   "outputs": [],
   "source": [
    "# Evaluate Models\n",
    "def evaluate_model(y_true, y_pred):\n",
    "    mse = mean_squared_error(y_true, y_pred)\n",
    "    r2 = r2_score(y_true, y_pred)\n",
    "    return mse, r2"
   ]
  },
  {
   "cell_type": "code",
   "execution_count": 65,
   "id": "94e17c30-1cae-4481-ab54-428d9f3cab4d",
   "metadata": {},
   "outputs": [],
   "source": [
    "# Evaluating models\n",
    "mse_linear, r2_linear = evaluate_model(y_test, y_pred_linear)\n",
    "mse_dt, r2_dt = evaluate_model(y_test, y_pred_dt)\n",
    "mse_rf, r2_rf = evaluate_model(y_test, y_pred_rf)\n",
    "mse_gb, r2_gb = evaluate_model(y_test, y_pred_gb)\n",
    "mse_svr, r2_svr = evaluate_model(y_test, y_pred_svr)"
   ]
  },
  {
   "cell_type": "code",
   "execution_count": 67,
   "id": "d33de7ef-6f8a-4151-a57f-42efa853e036",
   "metadata": {},
   "outputs": [
    {
     "name": "stdout",
     "output_type": "stream",
     "text": [
      "Linear Regression - MSE: 12575220.83, R2: 0.84\n",
      "Decision Tree Regressor - MSE: 9748175.80, R2: 0.88\n",
      "Random Forest Regressor - MSE: 3505673.95, R2: 0.96\n",
      "Gradient Boosting Regressor - MSE: 6229270.97, R2: 0.92\n",
      "Support Vector Regressor - MSE: 86843974.54, R2: -0.10\n"
     ]
    }
   ],
   "source": [
    "# Displaying the results\n",
    "print(f\"Linear Regression - MSE: {mse_linear:.2f}, R2: {r2_linear:.2f}\")\n",
    "print(f\"Decision Tree Regressor - MSE: {mse_dt:.2f}, R2: {r2_dt:.2f}\")\n",
    "print(f\"Random Forest Regressor - MSE: {mse_rf:.2f}, R2: {r2_rf:.2f}\")\n",
    "print(f\"Gradient Boosting Regressor - MSE: {mse_gb:.2f}, R2: {r2_gb:.2f}\")\n",
    "print(f\"Support Vector Regressor - MSE: {mse_svr:.2f}, R2: {r2_svr:.2f}\")"
   ]
  },
  {
   "cell_type": "markdown",
   "id": "a807f995-e3c1-4d3e-95d1-7987e3946019",
   "metadata": {},
   "source": [
    "# 3.Evaluate Models with Additional Metric (MAE)"
   ]
  },
  {
   "cell_type": "code",
   "execution_count": 69,
   "id": "e13849ed-1255-4bb1-bd76-3b9effd395ae",
   "metadata": {},
   "outputs": [],
   "source": [
    "from sklearn.metrics import mean_absolute_error\n",
    "\n",
    "# Evaluate Models with additional metric MAE\n",
    "def evaluate_model(y_true, y_pred):\n",
    "    mse = mean_squared_error(y_true, y_pred)\n",
    "    r2 = r2_score(y_true, y_pred)\n",
    "    mae = mean_absolute_error(y_true, y_pred)\n",
    "    return mse, r2, mae\n"
   ]
  },
  {
   "cell_type": "code",
   "execution_count": 71,
   "id": "df213259-be75-49db-b2e9-354d4e5fb60c",
   "metadata": {},
   "outputs": [],
   "source": [
    "\n",
    "# Evaluating models\n",
    "mse_linear, r2_linear, mae_linear = evaluate_model(y_test, y_pred_linear)\n",
    "mse_dt, r2_dt, mae_dt = evaluate_model(y_test, y_pred_dt)\n",
    "mse_rf, r2_rf, mae_rf = evaluate_model(y_test, y_pred_rf)\n",
    "mse_gb, r2_gb, mae_gb = evaluate_model(y_test, y_pred_gb)\n",
    "mse_svr, r2_svr, mae_svr = evaluate_model(y_test, y_pred_svr)\n",
    "\n"
   ]
  },
  {
   "cell_type": "code",
   "execution_count": 73,
   "id": "317c63c7-ef38-4c29-8e23-b9cb6fc7723f",
   "metadata": {},
   "outputs": [
    {
     "name": "stdout",
     "output_type": "stream",
     "text": [
      "Linear Regression - MSE: 12575220.83, R2: 0.84, MAE: 2136.78\n",
      "Decision Tree Regressor - MSE: 9748175.80, R2: 0.88, MAE: 2078.87\n",
      "Random Forest Regressor - MSE: 3505673.95, R2: 0.96, MAE: 1305.02\n",
      "Gradient Boosting Regressor - MSE: 6229270.97, R2: 0.92, MAE: 1738.35\n",
      "Support Vector Regressor - MSE: 86843974.54, R2: -0.10, MAE: 5696.20\n"
     ]
    }
   ],
   "source": [
    "# Displaying the results\n",
    "print(f\"Linear Regression - MSE: {mse_linear:.2f}, R2: {r2_linear:.2f}, MAE: {mae_linear:.2f}\")\n",
    "print(f\"Decision Tree Regressor - MSE: {mse_dt:.2f}, R2: {r2_dt:.2f}, MAE: {mae_dt:.2f}\")\n",
    "print(f\"Random Forest Regressor - MSE: {mse_rf:.2f}, R2: {r2_rf:.2f}, MAE: {mae_rf:.2f}\")\n",
    "print(f\"Gradient Boosting Regressor - MSE: {mse_gb:.2f}, R2: {r2_gb:.2f}, MAE: {mae_gb:.2f}\")\n",
    "print(f\"Support Vector Regressor - MSE: {mse_svr:.2f}, R2: {r2_svr:.2f}, MAE: {mae_svr:.2f}\")\n"
   ]
  },
  {
   "cell_type": "code",
   "execution_count": null,
   "id": "3967709b-56cb-4da7-a7e0-b95373119cfc",
   "metadata": {},
   "outputs": [],
   "source": [
    "# Comparison of Models Based on R², MSE, and MAE"
   ]
  },
  {
   "cell_type": "code",
   "execution_count": 44,
   "id": "0608dd03-e8bf-44f3-9d17-07b7e423d845",
   "metadata": {},
   "outputs": [],
   "source": [
    "# Import necessary libraries\n",
    "import pandas as pd\n",
    "import numpy as np\n",
    "from sklearn.model_selection import train_test_split\n",
    "from sklearn.preprocessing import StandardScaler, LabelEncoder\n",
    "from sklearn.metrics import mean_squared_error, mean_absolute_error, r2_score\n",
    "from sklearn.linear_model import LinearRegression\n",
    "from sklearn.tree import DecisionTreeRegressor\n",
    "from sklearn.ensemble import RandomForestRegressor, GradientBoostingRegressor\n",
    "from sklearn.svm import SVR\n",
    "\n",
    "# Load the dataset\n",
    "df = pd.read_csv('CarPrice_Assignment.csv')  # Ensure the file path is correct\n"
   ]
  },
  {
   "cell_type": "code",
   "execution_count": 46,
   "id": "ea479b93-c4c3-4a8f-839f-b991c5880623",
   "metadata": {},
   "outputs": [
    {
     "name": "stdout",
     "output_type": "stream",
     "text": [
      "<class 'pandas.core.frame.DataFrame'>\n",
      "RangeIndex: 205 entries, 0 to 204\n",
      "Data columns (total 26 columns):\n",
      " #   Column            Non-Null Count  Dtype  \n",
      "---  ------            --------------  -----  \n",
      " 0   car_ID            205 non-null    int64  \n",
      " 1   symboling         205 non-null    int64  \n",
      " 2   CarName           205 non-null    object \n",
      " 3   fueltype          205 non-null    object \n",
      " 4   aspiration        205 non-null    object \n",
      " 5   doornumber        205 non-null    object \n",
      " 6   carbody           205 non-null    object \n",
      " 7   drivewheel        205 non-null    object \n",
      " 8   enginelocation    205 non-null    object \n",
      " 9   wheelbase         205 non-null    float64\n",
      " 10  carlength         205 non-null    float64\n",
      " 11  carwidth          205 non-null    float64\n",
      " 12  carheight         205 non-null    float64\n",
      " 13  curbweight        205 non-null    int64  \n",
      " 14  enginetype        205 non-null    object \n",
      " 15  cylindernumber    205 non-null    object \n",
      " 16  enginesize        205 non-null    int64  \n",
      " 17  fuelsystem        205 non-null    object \n",
      " 18  boreratio         205 non-null    float64\n",
      " 19  stroke            205 non-null    float64\n",
      " 20  compressionratio  205 non-null    float64\n",
      " 21  horsepower        205 non-null    int64  \n",
      " 22  peakrpm           205 non-null    int64  \n",
      " 23  citympg           205 non-null    int64  \n",
      " 24  highwaympg        205 non-null    int64  \n",
      " 25  price             205 non-null    float64\n",
      "dtypes: float64(8), int64(8), object(10)\n",
      "memory usage: 41.8+ KB\n",
      "None\n"
     ]
    }
   ],
   "source": [
    "# Display basic information\n",
    "print(df.info())\n"
   ]
  },
  {
   "cell_type": "code",
   "execution_count": 48,
   "id": "c3b1547e-44ab-446e-98bc-ae185feba695",
   "metadata": {},
   "outputs": [
    {
     "name": "stdout",
     "output_type": "stream",
     "text": [
      "   car_ID  symboling                   CarName fueltype aspiration doornumber  \\\n",
      "0       1          3        alfa-romero giulia      gas        std        two   \n",
      "1       2          3       alfa-romero stelvio      gas        std        two   \n",
      "2       3          1  alfa-romero Quadrifoglio      gas        std        two   \n",
      "3       4          2               audi 100 ls      gas        std       four   \n",
      "4       5          2                audi 100ls      gas        std       four   \n",
      "\n",
      "       carbody drivewheel enginelocation  wheelbase  ...  enginesize  \\\n",
      "0  convertible        rwd          front       88.6  ...         130   \n",
      "1  convertible        rwd          front       88.6  ...         130   \n",
      "2    hatchback        rwd          front       94.5  ...         152   \n",
      "3        sedan        fwd          front       99.8  ...         109   \n",
      "4        sedan        4wd          front       99.4  ...         136   \n",
      "\n",
      "   fuelsystem  boreratio  stroke compressionratio horsepower  peakrpm citympg  \\\n",
      "0        mpfi       3.47    2.68              9.0        111     5000      21   \n",
      "1        mpfi       3.47    2.68              9.0        111     5000      21   \n",
      "2        mpfi       2.68    3.47              9.0        154     5000      19   \n",
      "3        mpfi       3.19    3.40             10.0        102     5500      24   \n",
      "4        mpfi       3.19    3.40              8.0        115     5500      18   \n",
      "\n",
      "   highwaympg    price  \n",
      "0          27  13495.0  \n",
      "1          27  16500.0  \n",
      "2          26  16500.0  \n",
      "3          30  13950.0  \n",
      "4          22  17450.0  \n",
      "\n",
      "[5 rows x 26 columns]\n"
     ]
    }
   ],
   "source": [
    "print(df.head())"
   ]
  },
  {
   "cell_type": "code",
   "execution_count": 50,
   "id": "106d58ef-f881-4920-b4da-194f9528aec0",
   "metadata": {},
   "outputs": [],
   "source": [
    "# Drop duplicates if any\n",
    "df.drop_duplicates(inplace=True)"
   ]
  },
  {
   "cell_type": "code",
   "execution_count": 52,
   "id": "fe97cb1c-296c-4e70-b880-973bdb6e8233",
   "metadata": {},
   "outputs": [],
   "source": [
    "\n",
    "# Encoding categorical variables\n",
    "categorical_columns = ['CarName', 'fueltype', 'aspiration', 'doornumber', 'carbody', \n",
    "                       'drivewheel', 'enginelocation', 'enginetype', 'cylindernumber', 'fuelsystem']\n"
   ]
  },
  {
   "cell_type": "code",
   "execution_count": 54,
   "id": "71277091-68f5-4679-8aa1-fecf71c23cfb",
   "metadata": {},
   "outputs": [],
   "source": [
    "for col in categorical_columns:\n",
    "    df[col] = LabelEncoder().fit_transform(df[col])\n"
   ]
  },
  {
   "cell_type": "code",
   "execution_count": 56,
   "id": "7e5cb86b-55f6-435f-91ad-6f814f08163c",
   "metadata": {},
   "outputs": [],
   "source": [
    "# Define features (X) and target variable (y)\n",
    "X = df.drop(columns=['price', 'car_ID'])  # Drop ID as it's not useful\n",
    "y = df['price']"
   ]
  },
  {
   "cell_type": "code",
   "execution_count": 58,
   "id": "670281ce-7972-408b-a6da-d14924f4671e",
   "metadata": {},
   "outputs": [],
   "source": [
    "# Scale numerical features\n",
    "scaler = StandardScaler()\n",
    "X_scaled = scaler.fit_transform(X)"
   ]
  },
  {
   "cell_type": "code",
   "execution_count": 62,
   "id": "088dd6dd-a5ec-4c5d-a8ab-e1d5e048aa31",
   "metadata": {},
   "outputs": [],
   "source": [
    "# Evaluating models\n",
    "X_train, X_test, y_train, y_test = train_test_split(X_scaled, y, test_size=0.2, random_state=42)\n"
   ]
  },
  {
   "cell_type": "code",
   "execution_count": 64,
   "id": "8b080aa0-9199-46d8-a2b9-6aa226dbff2e",
   "metadata": {},
   "outputs": [],
   "source": [
    "# Define models\n",
    "models = [\n",
    "    (\"Linear Regression\", LinearRegression()),\n",
    "    (\"Decision Tree Regressor\", DecisionTreeRegressor(random_state=42)),\n",
    "    (\"Random Forest Regressor\", RandomForestRegressor(random_state=42)),\n",
    "    (\"Gradient Boosting Regressor\", GradientBoostingRegressor(random_state=42)),\n",
    "    (\"Support Vector Regressor\", SVR(kernel='rbf'))\n",
    "]"
   ]
  },
  {
   "cell_type": "code",
   "execution_count": 66,
   "id": "ba8abbc2-8ae7-4858-9c66-5fdc09ae2336",
   "metadata": {},
   "outputs": [],
   "source": [
    "# Function to evaluate models\n",
    "def evaluate_model(model, X_train, y_train, X_test, y_test):\n",
    "    model.fit(X_train, y_train)\n",
    "    y_pred = model.predict(X_test)\n",
    "    mse = mean_squared_error(y_test, y_pred)\n",
    "    r2 = r2_score(y_test, y_pred)\n",
    "    mae = mean_absolute_error(y_test, y_pred)\n",
    "    return mse, r2, mae"
   ]
  },
  {
   "cell_type": "code",
   "execution_count": 68,
   "id": "5867955c-f8fe-4321-b2c1-3b56059b82d6",
   "metadata": {},
   "outputs": [],
   "source": [
    "# Store evaluation results\n",
    "results = []\n"
   ]
  },
  {
   "cell_type": "code",
   "execution_count": 70,
   "id": "19295565-94a3-4913-8ca2-ee1c982fa80b",
   "metadata": {},
   "outputs": [],
   "source": [
    "# Loop through models and evaluate\n",
    "for name, model in models:\n",
    "    mse, r2, mae = evaluate_model(model, X_train, y_train, X_test, y_test)\n",
    "    results.append((name, mse, r2, mae))"
   ]
  },
  {
   "cell_type": "code",
   "execution_count": 72,
   "id": "aa2c7991-457b-419e-afc1-833c3ead41a7",
   "metadata": {},
   "outputs": [
    {
     "name": "stdout",
     "output_type": "stream",
     "text": [
      "Model                         MSE            R²        MAE       \n",
      "-----------------------------------------------------------------\n",
      "Linear Regression             12575220.83    0.84      2136.78   \n",
      "Decision Tree Regressor       9748175.80     0.88      2078.87   \n",
      "Random Forest Regressor       3505673.95     0.96      1305.02   \n",
      "Gradient Boosting Regressor   6229270.97     0.92      1738.35   \n",
      "Support Vector Regressor      86843974.54    -0.10     5696.20   \n"
     ]
    }
   ],
   "source": [
    "# Display results in a readable format\n",
    "print(f\"{'Model':<30}{'MSE':<15}{'R²':<10}{'MAE':<10}\")\n",
    "print(\"-\" * 65)\n",
    "for result in results:\n",
    "    print(f\"{result[0]:<30}{result[1]:<15.2f}{result[2]:<10.2f}{result[3]:<10.2f}\")"
   ]
  },
  {
   "cell_type": "markdown",
   "id": "6e9d872c-6d41-4f4b-9dfa-a0717e680a46",
   "metadata": {},
   "source": [
    "# 4.Feature Importance Analysis"
   ]
  },
  {
   "cell_type": "code",
   "execution_count": 9,
   "id": "9ae65341-9b4e-4efd-9da1-b2a838ca7cd9",
   "metadata": {},
   "outputs": [
    {
     "name": "stderr",
     "output_type": "stream",
     "text": [
      "C:\\Users\\Cyntexia\\AppData\\Local\\Temp\\ipykernel_8476\\2339091165.py:45: FutureWarning: \n",
      "\n",
      "Passing `palette` without assigning `hue` is deprecated and will be removed in v0.14.0. Assign the `y` variable to `hue` and set `legend=False` for the same effect.\n",
      "\n",
      "  sns.barplot(x=importance_df['Importance'], y=importance_df['Feature'], palette='viridis')\n"
     ]
    },
    {
     "data": {
      "image/png": "[encoded data removed]",
      "text/plain": [
       "<Figure size 1200x600 with 1 Axes>"
      ]
     },
     "metadata": {},
     "output_type": "display_data"
    },
    {
     "name": "stdout",
     "output_type": "stream",
     "text": [
      "Top Important Features Affecting Car Prices:\n",
      "       Feature  Importance\n",
      "15  enginesize    0.554026\n",
      "12  curbweight    0.289695\n",
      "23  highwaympg    0.045507\n",
      "20  horsepower    0.032247\n",
      "1      CarName    0.018794\n",
      "10    carwidth    0.012669\n",
      "9    carlength    0.006999\n",
      "8    wheelbase    0.006762\n",
      "21     peakrpm    0.005359\n",
      "22     citympg    0.004550\n"
     ]
    }
   ],
   "source": [
    "import pandas as pd\n",
    "import numpy as np\n",
    "import matplotlib.pyplot as plt\n",
    "import seaborn as sns\n",
    "from sklearn.model_selection import train_test_split\n",
    "from sklearn.preprocessing import StandardScaler, LabelEncoder\n",
    "from sklearn.ensemble import RandomForestRegressor\n",
    "\n",
    "# Load the dataset\n",
    "df = pd.read_csv('CarPrice_Assignment.csv')  \n",
    "\n",
    "# Drop duplicates if any\n",
    "df.drop_duplicates(inplace=True)\n",
    "\n",
    "# Encoding categorical variables\n",
    "categorical_columns = ['CarName', 'fueltype', 'aspiration', 'doornumber', 'carbody', 'drivewheel', 'enginelocation',\n",
    "                        'enginetype', 'cylindernumber', 'fuelsystem']\n",
    "for col in categorical_columns:\n",
    "    df[col] = LabelEncoder().fit_transform(df[col])\n",
    "\n",
    "# Define features and target variable\n",
    "X = df.drop(columns=['price', 'car_ID'])  # Drop ID column as it's not useful\n",
    "y = df['price']\n",
    "\n",
    "# Scale numerical features\n",
    "scaler = StandardScaler()\n",
    "X_scaled = scaler.fit_transform(X)\n",
    "\n",
    "# Split into train and test sets\n",
    "X_train, X_test, y_train, y_test = train_test_split(X_scaled, y, test_size=0.2, random_state=42)\n",
    "\n",
    "# Train the Random Forest model again to extract feature importances\n",
    "rf_model = RandomForestRegressor(random_state=42)\n",
    "rf_model.fit(X_train, y_train)  # Now X_train is properly defined\n",
    "\n",
    "# Extract feature importance scores\n",
    "feature_importances = rf_model.feature_importances_\n",
    "\n",
    "# Create a DataFrame to display feature importance\n",
    "importance_df = pd.DataFrame({'Feature': X.columns, 'Importance': feature_importances})\n",
    "importance_df = importance_df.sort_values(by='Importance', ascending=False)\n",
    "\n",
    "# Plot Feature Importance\n",
    "plt.figure(figsize=(12, 6))\n",
    "sns.barplot(x=importance_df['Importance'], y=importance_df['Feature'], palette='viridis')\n",
    "plt.xlabel(\"Feature Importance Score\")\n",
    "plt.ylabel(\"Features\")\n",
    "plt.title(\"Feature Importance for Car Price Prediction\")\n",
    "plt.show()\n",
    "\n",
    "# Display top important features\n",
    "print(\"Top Important Features Affecting Car Prices:\")\n",
    "print(importance_df.head(10))\n"
   ]
  },
  {
   "cell_type": "markdown",
   "id": "2c02fb86-03c7-4015-8b20-9ea4171e212e",
   "metadata": {},
   "source": [
    "# 5. Hyperparameter Tuning"
   ]
  },
  {
   "cell_type": "code",
   "execution_count": 11,
   "id": "eb17149f-3f12-4358-8351-f8b405bafa55",
   "metadata": {},
   "outputs": [
    {
     "name": "stdout",
     "output_type": "stream",
     "text": [
      "Fitting 5 folds for each of 81 candidates, totalling 405 fits\n",
      "Best Parameters for Random Forest: {'max_depth': None, 'min_samples_leaf': 1, 'min_samples_split': 2, 'n_estimators': 200}\n",
      "\n",
      "Tuned Random Forest Performance:\n",
      "R² Score: 0.9570\n",
      "MSE: 3392783.5841\n",
      "MAE: 1270.6763\n",
      "Fitting 5 folds for each of 54 candidates, totalling 270 fits\n",
      "\n",
      "Best Parameters for Gradient Boosting: {'learning_rate': 0.1, 'max_depth': 3, 'n_estimators': 200, 'subsample': 0.8}\n",
      "\n",
      "Tuned Gradient Boosting Performance:\n",
      "R² Score: 0.9389\n",
      "MSE: 4820151.9778\n",
      "MAE: 1603.3458\n"
     ]
    }
   ],
   "source": [
    "from sklearn.model_selection import GridSearchCV\n",
    "from sklearn.ensemble import RandomForestRegressor, GradientBoostingRegressor\n",
    "from sklearn.metrics import mean_squared_error, r2_score, mean_absolute_error\n",
    "\n",
    "# Define hyperparameter grid for Random Forest\n",
    "rf_param_grid = {\n",
    "    'n_estimators': [50, 100, 200],\n",
    "    'max_depth': [None, 10, 20],\n",
    "    'min_samples_split': [2, 5, 10],\n",
    "    'min_samples_leaf': [1, 2, 4]\n",
    "}\n",
    "\n",
    "# Perform Grid Search for Random Forest\n",
    "rf_grid_search = GridSearchCV(RandomForestRegressor(random_state=42), rf_param_grid, \n",
    "                              scoring='r2', cv=5, n_jobs=-1, verbose=1)\n",
    "rf_grid_search.fit(X_train, y_train)\n",
    "\n",
    "# Best Parameters for Random Forest\n",
    "best_rf = rf_grid_search.best_estimator_\n",
    "print(\"Best Parameters for Random Forest:\", rf_grid_search.best_params_)\n",
    "\n",
    "# Evaluate Performance of the Tuned Model\n",
    "y_pred_rf = best_rf.predict(X_test)\n",
    "rf_mse = mean_squared_error(y_test, y_pred_rf)\n",
    "rf_r2 = r2_score(y_test, y_pred_rf)\n",
    "rf_mae = mean_absolute_error(y_test, y_pred_rf)\n",
    "\n",
    "print(f\"\\nTuned Random Forest Performance:\")\n",
    "print(f\"R² Score: {rf_r2:.4f}\")\n",
    "print(f\"MSE: {rf_mse:.4f}\")\n",
    "print(f\"MAE: {rf_mae:.4f}\")\n",
    "\n",
    "# Define hyperparameter grid for Gradient Boosting\n",
    "gb_param_grid = {\n",
    "    'n_estimators': [50, 100, 200],\n",
    "    'learning_rate': [0.01, 0.1, 0.2],\n",
    "    'max_depth': [3, 5, 7],\n",
    "    'subsample': [0.8, 1.0]\n",
    "}\n",
    "\n",
    "# Perform Grid Search for Gradient Boosting\n",
    "gb_grid_search = GridSearchCV(GradientBoostingRegressor(random_state=42), gb_param_grid, \n",
    "                              scoring='r2', cv=5, n_jobs=-1, verbose=1)\n",
    "gb_grid_search.fit(X_train, y_train)\n",
    "\n",
    "# Best Parameters for Gradient Boosting\n",
    "best_gb = gb_grid_search.best_estimator_\n",
    "print(\"\\nBest Parameters for Gradient Boosting:\", gb_grid_search.best_params_)\n",
    "\n",
    "# Evaluate Performance of the Tuned Model\n",
    "y_pred_gb = best_gb.predict(X_test)\n",
    "gb_mse = mean_squared_error(y_test, y_pred_gb)\n",
    "gb_r2 = r2_score(y_test, y_pred_gb)\n",
    "gb_mae = mean_absolute_error(y_test, y_pred_gb)\n",
    "\n",
    "print(f\"\\nTuned Gradient Boosting Performance:\")\n",
    "print(f\"R² Score: {gb_r2:.4f}\")\n",
    "print(f\"MSE: {gb_mse:.4f}\")\n",
    "print(f\"MAE: {gb_mae:.4f}\")\n"
   ]
  },
  {
   "cell_type": "code",
   "execution_count": null,
   "id": "6643bdcc-831e-4b24-afd7-c5bde98ba565",
   "metadata": {},
   "outputs": [],
   "source": []
  }
 ],
 "metadata": {
  "kernelspec": {
   "display_name": "Python [conda env:base] *",
   "language": "python",
   "name": "conda-base-py"
  },
  "language_info": {
   "codemirror_mode": {
    "name": "ipython",
    "version": 3
   },
   "file_extension": ".py",
   "mimetype": "text/x-python",
   "name": "python",
   "nbconvert_exporter": "python",
   "pygments_lexer": "ipython3",
   "version": "3.12.7"
  }
 },
 "nbformat": 4,
 "nbformat_minor": 5
}
